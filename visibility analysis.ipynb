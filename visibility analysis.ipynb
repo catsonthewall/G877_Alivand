{
 "cells": [
  {
   "cell_type": "markdown",
   "metadata": {},
   "source": [
    "# Visibility analysis\n",
    "\n",
    "The visibility analysis will, at first, be conducted using the \"Arealstatistik\" (https://www.bfs.admin.ch/bfs/de/home/dienstleistungen/geostat/geodaten-bundesstatistik/boden-nutzung-bedeckung-eignung/arealstatistik-schweiz.assetdetail.25885691.html).\n",
    "\n",
    "At a later stage it might be conducted using a DEM (https://www.swisstopo.admin.ch/de/hoehenmodell-dhm25).\n",
    "\n",
    "## Setup"
   ]
  },
  {
   "cell_type": "code",
   "execution_count": 1,
   "metadata": {},
   "outputs": [],
   "source": [
    "# setup\n",
    "from geospatial import *\n",
    "import geopandas as gpd\n",
    "import pandas as pd\n",
    "import numpy as np\n",
    "import os\n",
    "import getpass"
   ]
  },
  {
   "cell_type": "code",
   "execution_count": 2,
   "metadata": {},
   "outputs": [],
   "source": [
    "user_name = getpass.getuser()\n",
    "\n",
    "# create a path to the CSV file\n",
    "csv_file_path = os.path.join('/Users', user_name, 'Documents', 'GitHub', 'G877_Alivand', 'arealstatistik_Grindelwald.csv')\n",
    "\n",
    "# load land use statistic data\n",
    "arealstatistik_GW = pd.read_csv(csv_file_path, sep=';')\n",
    "#print(arealstatistik_GW)\n",
    "#arealstatistik_GW.info()"
   ]
  },
  {
   "cell_type": "code",
   "execution_count": 3,
   "metadata": {},
   "outputs": [],
   "source": [
    "# create a path to the GeoJSON file of the roads\n",
    "root = os.path.join('/Users', user_name, 'Documents', 'GitHub', 'G877_Alivand')\n",
    "fn = 'Roads_small.geojson'\n",
    "full_path = os.path.join(root, fn)\n",
    "# load data\n",
    "roads = gpd.read_file(full_path)\n",
    "#print(roads)\n",
    "#roads.info()"
   ]
  },
  {
   "cell_type": "code",
   "execution_count": 4,
   "metadata": {},
   "outputs": [],
   "source": [
    "# create a path to the file of the DEM\n",
    "dhm25_file_path = os.path.join('/Users', user_name, 'Documents', 'GitHub', 'G877_Alivand', 'DHM25_Grindelwald.geojson')\n",
    "# load data\n",
    "dhm25 = gpd.read_file(dhm25_file_path)\n",
    "#print(dhm25)"
   ]
  },
  {
   "cell_type": "markdown",
   "metadata": {},
   "source": [
    "### Populating the classes\n",
    "Setting up the data using the classes defined in geospatial.py"
   ]
  },
  {
   "cell_type": "code",
   "execution_count": 5,
   "metadata": {},
   "outputs": [
    {
     "name": "stdout",
     "output_type": "stream",
     "text": [
      "The first 5 points are: [Point(x=2620000, y=1150100), Point(x=2620000, y=1151400), Point(x=2620000, y=1151800), Point(x=2620000, y=1151900), Point(x=2620000, y=1152200)]\n",
      "There are 120701 points in the dataset.\n"
     ]
    }
   ],
   "source": [
    "# add the data into the Point class and create an attribute containing the land use category\n",
    "points_LUS = []\n",
    "\n",
    "for x in range(len(arealstatistik_GW)):\n",
    "    a = (Point(arealstatistik_GW['E_COORD'].iloc[x], arealstatistik_GW['N_COORD'].iloc[x]))\n",
    "    a.cat = arealstatistik_GW['AS18_4'].iloc[x]\n",
    "    points_LUS.append(a)\n",
    "\n",
    "print(f'The first 5 points are: {points_LUS[:5]}')\n",
    "print(f'There are {len(points_LUS)} points in the dataset.')"
   ]
  },
  {
   "cell_type": "code",
   "execution_count": 14,
   "metadata": {},
   "outputs": [],
   "source": [
    "# split up the DHM25 geometry to fit in our own Point class\n",
    "dhm25['E_COORD'] = dhm25['geometry'].x.round(1)\n",
    "dhm25['N_COORD'] = dhm25['geometry'].y.round(1)\n",
    "dhm25['Z_COORD'] = dhm25['geometry'].z.round(0).astype(int)\n",
    "#print(dhm25)"
   ]
  },
  {
   "cell_type": "code",
   "execution_count": 36,
   "metadata": {},
   "outputs": [
    {
     "name": "stdout",
     "output_type": "stream",
     "text": [
      "The first 5 points are: [{'point': Point(x=2625485.9, y=1172295.3), 'elevation': 1584}, {'point': Point(x=2627831.3, y=1172885.9), 'elevation': 1505}, {'point': Point(x=2639148.4, y=1170993.8), 'elevation': 1431}, {'point': Point(x=2648728.1, y=1170739.1), 'elevation': 2928}, {'point': Point(x=2652621.9, y=1170375.0), 'elevation': 1713}]\n",
      "There are 4280 points in the dataset.\n",
      "The elevation of the first point is 1584m.a.s.l.\n"
     ]
    }
   ],
   "source": [
    "# create points from this data\n",
    "points_DHM25 = []\n",
    "\n",
    "for i in range(len(dhm25)):\n",
    "    point = Point(dhm25['E_COORD'].iloc[i], dhm25['N_COORD'].iloc[i])\n",
    "    elevation = dhm25['Z_COORD'].iloc[i]\n",
    "    points_DHM25.append({'point': point, 'elevation': elevation})\n",
    "\n",
    "print(f'The first 5 points are: {points_DHM25[:5]}')\n",
    "print(f'There are {len(points_DHM25)} points in the dataset.')\n",
    "print(f'The elevation of the first point is {points_DHM25[0][\"elevation\"]}m.a.s.l.')"
   ]
  },
  {
   "cell_type": "markdown",
   "metadata": {},
   "source": [
    "### Main (land use statistic)\n",
    "\n",
    "Here the visibility analysis based on the land use statistic (Arealstatistik) is run."
   ]
  },
  {
   "cell_type": "code",
   "execution_count": 8,
   "metadata": {},
   "outputs": [
    {
     "name": "stdout",
     "output_type": "stream",
     "text": [
      "Closest pixel center to Point(x=2620000, y=1150100) : Point(x=2620000, y=1150100)\n",
      "Closest pixel center to Point(x=2620000, y=1151400) : Point(x=2620000, y=1151400)\n",
      "Closest pixel center to Point(x=2620000, y=1151800) : Point(x=2620000, y=1151800)\n",
      "Closest pixel center to Point(x=2620000, y=1151900) : Point(x=2620000, y=1151900)\n",
      "Closest pixel center to Point(x=2620000, y=1152200) : Point(x=2620000, y=1152200)\n",
      "The closest pixel centers are: [Point(x=2620000, y=1150100), Point(x=2620000, y=1151400), Point(x=2620000, y=1151800), Point(x=2620000, y=1151900), Point(x=2620000, y=1152200)]\n"
     ]
    }
   ],
   "source": [
    "# Use class method to find the closest pixel center for each point in points_LUS\n",
    "# Define an empty list to store the closest pixel centers\n",
    "closest_pixel_centers = []\n",
    "\n",
    "# Change the input to nodes/segments for analysis! \n",
    "input_closest = points_LUS[:5]\n",
    "\n",
    "for point in input_closest: \n",
    "    closest_pixel_center = point.find_closest_pixel(points_LUS)\n",
    "    print(\"Closest pixel center to\", point, \":\", closest_pixel_center) # this can be removed later on\n",
    "    closest_pixel_centers.append(closest_pixel_center)\n",
    "\n",
    "# closest_pixel_centers now contains the closest pixel centers for each Point instance in points_LUS\n",
    "print(f'The closest pixel centers are: {closest_pixel_centers}')"
   ]
  },
  {
   "cell_type": "code",
   "execution_count": 9,
   "metadata": {},
   "outputs": [
    {
     "name": "stdout",
     "output_type": "stream",
     "text": [
      "Neighborhood of Point(x=2620000, y=1150100) : [Point(x=2619900, y=1150000), Point(x=2619900, y=1150100), Point(x=2619900, y=1150200), Point(x=2620000, y=1150000), Point(x=2620000, y=1150100), Point(x=2620000, y=1150200), Point(x=2620100, y=1150000), Point(x=2620100, y=1150100), Point(x=2620100, y=1150200)]\n",
      "Neighborhood of Point(x=2620000, y=1151400) : [Point(x=2619900, y=1151300), Point(x=2619900, y=1151400), Point(x=2619900, y=1151500), Point(x=2620000, y=1151300), Point(x=2620000, y=1151400), Point(x=2620000, y=1151500), Point(x=2620100, y=1151300), Point(x=2620100, y=1151400), Point(x=2620100, y=1151500)]\n",
      "Neighborhood of Point(x=2620000, y=1151800) : [Point(x=2619900, y=1151700), Point(x=2619900, y=1151800), Point(x=2619900, y=1151900), Point(x=2620000, y=1151700), Point(x=2620000, y=1151800), Point(x=2620000, y=1151900), Point(x=2620100, y=1151700), Point(x=2620100, y=1151800), Point(x=2620100, y=1151900)]\n",
      "Neighborhood of Point(x=2620000, y=1151900) : [Point(x=2619900, y=1151800), Point(x=2619900, y=1151900), Point(x=2619900, y=1152000), Point(x=2620000, y=1151800), Point(x=2620000, y=1151900), Point(x=2620000, y=1152000), Point(x=2620100, y=1151800), Point(x=2620100, y=1151900), Point(x=2620100, y=1152000)]\n",
      "Neighborhood of Point(x=2620000, y=1152200) : [Point(x=2619900, y=1152100), Point(x=2619900, y=1152200), Point(x=2619900, y=1152300), Point(x=2620000, y=1152100), Point(x=2620000, y=1152200), Point(x=2620000, y=1152300), Point(x=2620100, y=1152100), Point(x=2620100, y=1152200), Point(x=2620100, y=1152300)]\n",
      "The first 5 neighborhoods are: [[Point(x=2619900, y=1150000), Point(x=2619900, y=1150100), Point(x=2619900, y=1150200), Point(x=2620000, y=1150000), Point(x=2620000, y=1150100), Point(x=2620000, y=1150200), Point(x=2620100, y=1150000), Point(x=2620100, y=1150100), Point(x=2620100, y=1150200)], [Point(x=2619900, y=1151300), Point(x=2619900, y=1151400), Point(x=2619900, y=1151500), Point(x=2620000, y=1151300), Point(x=2620000, y=1151400), Point(x=2620000, y=1151500), Point(x=2620100, y=1151300), Point(x=2620100, y=1151400), Point(x=2620100, y=1151500)], [Point(x=2619900, y=1151700), Point(x=2619900, y=1151800), Point(x=2619900, y=1151900), Point(x=2620000, y=1151700), Point(x=2620000, y=1151800), Point(x=2620000, y=1151900), Point(x=2620100, y=1151700), Point(x=2620100, y=1151800), Point(x=2620100, y=1151900)], [Point(x=2619900, y=1151800), Point(x=2619900, y=1151900), Point(x=2619900, y=1152000), Point(x=2620000, y=1151800), Point(x=2620000, y=1151900), Point(x=2620000, y=1152000), Point(x=2620100, y=1151800), Point(x=2620100, y=1151900), Point(x=2620100, y=1152000)], [Point(x=2619900, y=1152100), Point(x=2619900, y=1152200), Point(x=2619900, y=1152300), Point(x=2620000, y=1152100), Point(x=2620000, y=1152200), Point(x=2620000, y=1152300), Point(x=2620100, y=1152100), Point(x=2620100, y=1152200), Point(x=2620100, y=1152300)]]\n"
     ]
    }
   ],
   "source": [
    "# Use class method to find the neighbors of each point in input\n",
    "# Define an empty list to store the neighborhoods\n",
    "neighborhoods = []\n",
    "\n",
    "# Change the input to nodes/segments for analysis! \n",
    "input_nn = points_LUS[:5]  \n",
    "\n",
    "for point in input_nn:\n",
    "    neighborhood = point.find_neighbors()\n",
    "    print(\"Neighborhood of\", point, \":\", neighborhood)  # Just for debugging, can be removed later\n",
    "    neighborhoods.append(neighborhood)\n",
    "\n",
    "# neighborhoods now contains the neighborhoods for each Point instance in input (including the point itself)\n",
    "print(f'The first 5 neighborhoods are: {neighborhoods[:5]}')"
   ]
  },
  {
   "cell_type": "code",
   "execution_count": 10,
   "metadata": {},
   "outputs": [
    {
     "name": "stdout",
     "output_type": "stream",
     "text": [
      "[[2, 2, 2, 2, 2, 2, 2, 2, 2], [4, 4, 4, 4, 4, 4, 4, 4, 4], [4, 4, 4, 4, 4, 4, 4, 4, 4], [4, 4, 4, 4, 4, 4, 4, 4, 4], [4, 4, 4, 4, 4, 4, 4, 4, 4]]\n"
     ]
    }
   ],
   "source": [
    "# Use class method to find the land use categories of each neighborhood\n",
    "neighborhood_landcover = []\n",
    "\n",
    "for neighborhood in neighborhoods:\n",
    "    arealstatistik_values = Point.get_landcover(neighborhood)\n",
    "    neighborhood_landcover.append(arealstatistik_values)\n",
    "    \n",
    "print(neighborhood_landcover)"
   ]
  },
  {
   "cell_type": "code",
   "execution_count": 11,
   "metadata": {},
   "outputs": [
    {
     "name": "stdout",
     "output_type": "stream",
     "text": [
      "The scenic score of the imaginary neighborhood with the values [1, 2, 3, 4, 1, 2, 3, 4, 1] is 0.5555555555555556\n",
      "The scenic score of the imaginary neighborhood with the values [1, 1, 1, 1, 1, 1, 1, 1, 1] is 1.0\n",
      "The scenic score of the neighborhood with the values [2, 2, 2, 2, 2, 2, 2, 2, 2] is 0.0\n",
      "The scenic score of the neighborhood with the values [4, 4, 4, 4, 4, 4, 4, 4, 4] is 0.0\n",
      "The scenic score of the neighborhood with the values [4, 4, 4, 4, 4, 4, 4, 4, 4] is 0.0\n",
      "The scenic score of the neighborhood with the values [4, 4, 4, 4, 4, 4, 4, 4, 4] is 0.0\n",
      "The scenic score of the neighborhood with the values [4, 4, 4, 4, 4, 4, 4, 4, 4] is 0.0\n"
     ]
    }
   ],
   "source": [
    "def neighborhood_scenicness(landcover_values):\n",
    "    count = sum(1 for value in landcover_values if value in [1, 3])\n",
    "    score = count / 9\n",
    "    return score\n",
    "\n",
    "\n",
    "#test with some random data\n",
    "input_landcover = [[1,2,3,4,1,2,3,4,1],[1,1,1,1,1,1,1,1,1]]\n",
    "\n",
    "# Test the function for each list of landcover values\n",
    "for landcover_values in input_landcover:\n",
    "    scenicness_score = neighborhood_scenicness(landcover_values)\n",
    "    print(\"The scenic score of the imaginary neighborhood with the values\", landcover_values, \"is\", scenicness_score)\n",
    "\n",
    "# test with real data\n",
    "input_landcover = neighborhood_landcover\n",
    "\n",
    "# Test the function for each list of landcover values\n",
    "for landcover_values in input_landcover:\n",
    "    scenicness_score = neighborhood_scenicness(landcover_values)\n",
    "    print(\"The scenic score of the neighborhood with the values\", landcover_values, \"is\", scenicness_score)"
   ]
  },
  {
   "cell_type": "markdown",
   "metadata": {},
   "source": [
    "## Old piece of code\n",
    "\n",
    "This is the simple solution, where the classes are not yet used"
   ]
  },
  {
   "cell_type": "code",
   "execution_count": 13,
   "metadata": {},
   "outputs": [
    {
     "name": "stdout",
     "output_type": "stream",
     "text": [
      "Closest pixel center: [2625300 1162300]\n"
     ]
    }
   ],
   "source": [
    "# find closest pixel center for a given coordinate\n",
    "def find_closest_pixel(x_coord, y_coord):\n",
    "    pixel_centers = arealstatistik_GW[['E_COORD', 'N_COORD']].values\n",
    "    \n",
    "    distances = np.sqrt((pixel_centers[:, 0] - x_coord)**2 + (pixel_centers[:, 1] - y_coord)**2)\n",
    "    \n",
    "    closest_index = np.argmin(distances)\n",
    "    \n",
    "    closest_pixel_center = pixel_centers[closest_index]\n",
    "    \n",
    "    return closest_pixel_center\n",
    "\n",
    "# test\n",
    "x_coord = 2625321\n",
    "y_coord = 1162324\n",
    "closest_pixel_center = find_closest_pixel(x_coord, y_coord)\n",
    "print(\"Closest pixel center:\", closest_pixel_center)"
   ]
  },
  {
   "cell_type": "code",
   "execution_count": 14,
   "metadata": {},
   "outputs": [
    {
     "name": "stdout",
     "output_type": "stream",
     "text": [
      "[(2625200, 1162200), (2625200, 1162300), (2625200, 1162400), (2625300, 1162200), (2625300, 1162300), (2625300, 1162400), (2625400, 1162200), (2625400, 1162300), (2625400, 1162400)]\n"
     ]
    }
   ],
   "source": [
    "# find neighbor of a given pixel center\n",
    "def find_neighbors(center_pixel):\n",
    "    x, y = center_pixel\n",
    "    neighbors = []\n",
    "    for dx in [-100, 0, 100]:\n",
    "        for dy in [-100, 0, 100]:\n",
    "            neighbors.append((x + dx, y + dy))\n",
    "    return neighbors\n",
    "\n",
    "# test\n",
    "neighborhood = find_neighbors(closest_pixel_center)\n",
    "print(neighborhood)"
   ]
  },
  {
   "cell_type": "code",
   "execution_count": 15,
   "metadata": {},
   "outputs": [
    {
     "name": "stdout",
     "output_type": "stream",
     "text": [
      "1236      3\n",
      "62379     2\n",
      "71885     2\n",
      "82629     4\n",
      "106077    3\n",
      "110461    3\n",
      "111485    4\n",
      "113468    3\n",
      "120482    4\n",
      "Name: AS18_4, dtype: int64\n"
     ]
    }
   ],
   "source": [
    "# get landcover values for neighborhood\n",
    "def get_values_for_pixels(pixel_centers):\n",
    "    values = arealstatistik_GW.loc[(arealstatistik_GW['E_COORD'].isin([x for x, _ in pixel_centers])) & \n",
    "                                   (arealstatistik_GW['N_COORD'].isin([y for _, y in pixel_centers])), 'AS18_4']\n",
    "    return values\n",
    "\n",
    "# test\n",
    "arealstatistik_values = get_values_for_pixels(neighborhood)\n",
    "print(arealstatistik_values)"
   ]
  },
  {
   "cell_type": "code",
   "execution_count": 16,
   "metadata": {},
   "outputs": [
    {
     "name": "stdout",
     "output_type": "stream",
     "text": [
      "True\n"
     ]
    }
   ],
   "source": [
    "# determine scenicness\n",
    "def is_neighborhood_scenic(arealstatistik_values):\n",
    "    count_1_3 = sum(1 for value in arealstatistik_values if value in [1, 3])\n",
    "\n",
    "    if count_1_3 > 4:\n",
    "        return False\n",
    "    \n",
    "    return True\n",
    "\n",
    "# test\n",
    "scenicness_test = is_neighborhood_scenic(arealstatistik_values)\n",
    "print(scenicness_test)"
   ]
  },
  {
   "cell_type": "code",
   "execution_count": 17,
   "metadata": {},
   "outputs": [
    {
     "name": "stdout",
     "output_type": "stream",
     "text": [
      "0.4444444444444444\n"
     ]
    }
   ],
   "source": [
    "# determine scenicness (alternative)\n",
    "def neighborhood_scenicness(neighborhood):\n",
    "    count = sum(1 for value in arealstatistik_values if value in [1, 3])\n",
    "    score = count / 9\n",
    "    return score\n",
    "\n",
    "# test\n",
    "scenicness_score = neighborhood_scenicness(neighborhood)\n",
    "print(scenicness_score)"
   ]
  },
  {
   "cell_type": "markdown",
   "metadata": {},
   "source": [
    "## Main (viewshed)\n",
    "\n",
    "Here the visibility analysis based on the DEM is run."
   ]
  },
  {
   "cell_type": "code",
   "execution_count": 51,
   "metadata": {},
   "outputs": [
    {
     "name": "stdout",
     "output_type": "stream",
     "text": [
      "Closest pixel center: 2624651.5 1174679.7\n",
      "Elevation of the closest pixel center: 1787 m.a.s.l.\n"
     ]
    }
   ],
   "source": [
    "# Define the function to find the closest pixel center\n",
    "def find_closest_pixel_DHM25(x_coord, y_coord):\n",
    "    # Extract coordinates from points_DHM25\n",
    "    pixel_centers = np.array([(p['point'].x, p['point'].y) for p in points_DHM25])\n",
    "    \n",
    "    # Calculate distances\n",
    "    distances = np.sqrt((pixel_centers[:, 0] - x_coord)**2 + (pixel_centers[:, 1] - y_coord)**2)\n",
    "    \n",
    "    # Find the index of the closest point\n",
    "    closest_index = np.argmin(distances)\n",
    "    \n",
    "    # Return the closest pixel center dictionary\n",
    "    return points_DHM25[closest_index]\n",
    "\n",
    "x_coord = 2624444\n",
    "y_coord = 1174444\n",
    "# Find the closest pixel center\n",
    "closest_pixel_center_DHM25 = find_closest_pixel_DHM25(x_coord, y_coord)\n",
    "print(\"Closest pixel center:\", closest_pixel_center_DHM25['point'].x, closest_pixel_center_DHM25['point'].y)\n",
    "print(\"Elevation of the closest pixel center:\", closest_pixel_center_DHM25['elevation'], \"m.a.s.l.\")"
   ]
  },
  {
   "cell_type": "code",
   "execution_count": 52,
   "metadata": {},
   "outputs": [
    {
     "name": "stdout",
     "output_type": "stream",
     "text": [
      "Number of points within 1km radius: 17\n",
      "Points within 1km radius:\n",
      "Point: (2624120.3, 1175421.9), Elevation: 1477m.a.s.l.\n",
      "Point: (2625226.5, 1174079.7), Elevation: 1167m.a.s.l.\n",
      "Point: (2624810.9, 1174951.6), Elevation: 1818m.a.s.l.\n",
      "Point: (2624651.5, 1174679.7), Elevation: 1787m.a.s.l.\n",
      "Point: (2624137.5, 1174312.5), Elevation: 1676m.a.s.l.\n",
      "Point: (2624054.6, 1174396.9), Elevation: 1725m.a.s.l.\n",
      "Point: (2625392.1, 1174700.0), Elevation: 1408m.a.s.l.\n",
      "Point: (2624726.5, 1175265.6), Elevation: 1954m.a.s.l.\n",
      "Point: (2623962.5, 1174032.8), Elevation: 1634m.a.s.l.\n",
      "Point: (2624228.1, 1174684.4), Elevation: 1798m.a.s.l.\n",
      "Point: (2625367.1, 1175348.4), Elevation: 1891m.a.s.l.\n",
      "Point: (2624089.0, 1174460.9), Elevation: 1694m.a.s.l.\n",
      "Point: (2625143.8, 1175078.1), Elevation: 1816m.a.s.l.\n",
      "Point: (2623743.8, 1174976.6), Elevation: 1397m.a.s.l.\n",
      "Point: (2624543.8, 1174925.0), Elevation: 1834m.a.s.l.\n",
      "Point: (2624617.1, 1175067.2), Elevation: 1899m.a.s.l.\n",
      "Point: (2624821.9, 1174701.6), Elevation: 1731m.a.s.l.\n"
     ]
    }
   ],
   "source": [
    "# Define the function to find all points within a given radius\n",
    "def find_points_within_radius(center_x, center_y, radius=1000):\n",
    "    points_within_radius = []\n",
    "    for p in points_DHM25:\n",
    "        point = p['point']\n",
    "        distance = np.sqrt((point.x - center_x)**2 + (point.y - center_y)**2)\n",
    "        if distance <= radius:\n",
    "            points_within_radius.append(p)\n",
    "    return points_within_radius\n",
    "\n",
    "# Find points within 1km radius of the closest pixel center\n",
    "points_within_radius = find_points_within_radius(closest_pixel_center_DHM25['point'].x, closest_pixel_center_DHM25['point'].y, radius=1000)\n",
    "print(\"Number of points within 1km radius:\", len(points_within_radius))\n",
    "\n",
    "# Print the list of points within the radius\n",
    "print(\"Points within 1km radius:\")\n",
    "for p in points_within_radius:\n",
    "    point = p['point']\n",
    "    elevation = p['elevation']\n",
    "    print(f\"Point: ({point.x}, {point.y}), Elevation: {elevation}m.a.s.l.\")"
   ]
  },
  {
   "cell_type": "code",
   "execution_count": 54,
   "metadata": {},
   "outputs": [
    {
     "name": "stdout",
     "output_type": "stream",
     "text": [
      "Decimal of points lower than the closest pixel center: 0.56\n"
     ]
    }
   ],
   "source": [
    "# Define the function to compare elevations and calculate the decimal value\n",
    "def calculate_elevation_comparison(center_point, points_within_radius):\n",
    "    center_elevation = center_point['elevation']\n",
    "    lower_count = 0\n",
    "    higher_count = 0\n",
    "    \n",
    "    for p in points_within_radius:\n",
    "        if p['elevation'] < center_elevation:\n",
    "            lower_count += 1\n",
    "        elif p['elevation'] > center_elevation:\n",
    "            higher_count += 1\n",
    "    \n",
    "    total_points = lower_count + higher_count\n",
    "    if total_points == 0:\n",
    "        return None  # No points for comparison\n",
    "    \n",
    "    lower_decimal = lower_count / total_points\n",
    "    return lower_decimal\n",
    "\n",
    "# Calculate and print the elevation comparison decimal value\n",
    "lower_decimal = calculate_elevation_comparison(closest_pixel_center_DHM25, points_within_radius)\n",
    "if lower_decimal is not None:\n",
    "    print(f\"Decimal of points lower than the closest pixel center: {lower_decimal:.2f}\")\n",
    "else:\n",
    "    print(\"No points found within 1km radius for comparison.\")"
   ]
  }
 ],
 "metadata": {
  "kernelspec": {
   "display_name": "geo876",
   "language": "python",
   "name": "python3"
  },
  "language_info": {
   "codemirror_mode": {
    "name": "ipython",
    "version": 3
   },
   "file_extension": ".py",
   "mimetype": "text/x-python",
   "name": "python",
   "nbconvert_exporter": "python",
   "pygments_lexer": "ipython3",
   "version": "3.11.8"
  }
 },
 "nbformat": 4,
 "nbformat_minor": 2
}
