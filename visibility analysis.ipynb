{
 "cells": [
  {
   "cell_type": "markdown",
   "metadata": {},
   "source": [
    "# Visibility analysis\n",
    "\n",
    "The visibility analysis will, at first, be conducted using the \"Arealstatistik\" (https://www.bfs.admin.ch/bfs/de/home/dienstleistungen/geostat/geodaten-bundesstatistik/boden-nutzung-bedeckung-eignung/arealstatistik-schweiz.assetdetail.25885691.html).\n",
    "At a later stage it might be conducted using a DEM."
   ]
  },
  {
   "cell_type": "code",
   "execution_count": 1,
   "metadata": {},
   "outputs": [],
   "source": [
    "# setup\n",
    "import geopandas as gpd\n",
    "import pandas as pd\n",
    "import numpy as np\n",
    "import os\n"
   ]
  },
  {
   "cell_type": "code",
   "execution_count": 7,
   "metadata": {},
   "outputs": [
    {
     "name": "stdout",
     "output_type": "stream",
     "text": [
      "        E_COORD  N_COORD  AS18_4\n",
      "0       2620000  1150100       2\n",
      "1       2620000  1151400       4\n",
      "2       2620000  1151800       4\n",
      "3       2620000  1151900       4\n",
      "4       2620000  1152200       4\n",
      "...         ...      ...     ...\n",
      "120696  2629900  1176900       3\n",
      "120697  2630300  1177400       3\n",
      "120698  2629000  1161300       4\n",
      "120699  2629000  1162000       2\n",
      "120700  2629000  1168000       4\n",
      "\n",
      "[120701 rows x 3 columns]\n",
      "<class 'pandas.core.frame.DataFrame'>\n",
      "RangeIndex: 120701 entries, 0 to 120700\n",
      "Data columns (total 3 columns):\n",
      " #   Column   Non-Null Count   Dtype\n",
      "---  ------   --------------   -----\n",
      " 0   E_COORD  120701 non-null  int64\n",
      " 1   N_COORD  120701 non-null  int64\n",
      " 2   AS18_4   120701 non-null  int64\n",
      "dtypes: int64(3)\n",
      "memory usage: 2.8 MB\n"
     ]
    }
   ],
   "source": [
    "user_name = 'Fabio'\n",
    "\n",
    "# create a path to the CSV file\n",
    "file_path = \"/Users/Dominik Metzger/Documents/GitHub/G877_Alivand/arealstatistik_Grindelwald.csv\"\n",
    "\n",
    "# load data\n",
    "arealstatistik_GW = pd.read_csv(file_path, sep=';')\n",
    "print(arealstatistik_GW)\n",
    "arealstatistik_GW.info()"
   ]
  },
  {
   "cell_type": "markdown",
   "metadata": {},
   "source": [
    "### Set-up"
   ]
  },
  {
   "cell_type": "code",
   "execution_count": 8,
   "metadata": {},
   "outputs": [],
   "source": [
    "class Point():\n",
    "    # initialise\n",
    "    def __init__(self, x=None, y=None):\n",
    "        self.x = x\n",
    "        self.y = y\n",
    "\n",
    "     # representation\n",
    "    def __repr__(self):\n",
    "        return f'Point(x={self.x}, y={self.y})'\n"
   ]
  },
  {
   "cell_type": "markdown",
   "metadata": {},
   "source": [
    "### Main"
   ]
  },
  {
   "cell_type": "code",
   "execution_count": 9,
   "metadata": {},
   "outputs": [
    {
     "name": "stdout",
     "output_type": "stream",
     "text": [
      "The first 5 points are: [Point(x=2620000, y=1150100), Point(x=2620000, y=1151400), Point(x=2620000, y=1151800), Point(x=2620000, y=1151900), Point(x=2620000, y=1152200)]\n",
      "There are 120701 points in the dataset.\n"
     ]
    }
   ],
   "source": [
    "x = 0\n",
    "points = []\n",
    "\n",
    "for _ in range(len(arealstatistik_GW)):\n",
    "    a = (Point(arealstatistik_GW['E_COORD'].iloc[x], arealstatistik_GW['N_COORD'].iloc[x]))\n",
    "    points.append(a)\n",
    "    x += 1\n",
    "\n",
    "print(f'The first 5 points are: {points[:5]}')\n",
    "print(f'There are {len(points)} points in the dataset.')"
   ]
  },
  {
   "cell_type": "code",
   "execution_count": 17,
   "metadata": {},
   "outputs": [
    {
     "name": "stdout",
     "output_type": "stream",
     "text": [
      "Closest pixel center: [2625300 1162300]\n"
     ]
    }
   ],
   "source": [
    "# find closest pixel center for a given coordinate\n",
    "def find_closest_pixel(x_coord, y_coord):\n",
    "    pixel_centers = arealstatistik_GW[['E_COORD', 'N_COORD']].values\n",
    "    \n",
    "    distances = np.sqrt((pixel_centers[:, 0] - x_coord)**2 + (pixel_centers[:, 1] - y_coord)**2)\n",
    "    \n",
    "    closest_index = np.argmin(distances)\n",
    "    \n",
    "    closest_pixel_center = pixel_centers[closest_index]\n",
    "    \n",
    "    return closest_pixel_center\n",
    "\n",
    "# test\n",
    "x_coord = 2625321\n",
    "y_coord = 1162324\n",
    "closest_pixel_center = find_closest_pixel(x_coord, y_coord)\n",
    "print(\"Closest pixel center:\", closest_pixel_center)"
   ]
  },
  {
   "cell_type": "code",
   "execution_count": 20,
   "metadata": {},
   "outputs": [
    {
     "name": "stdout",
     "output_type": "stream",
     "text": [
      "[(2625200, 1162200), (2625200, 1162300), (2625200, 1162400), (2625300, 1162200), (2625300, 1162300), (2625300, 1162400), (2625400, 1162200), (2625400, 1162300), (2625400, 1162400)]\n"
     ]
    }
   ],
   "source": [
    "# find neighbor of a given pixel center\n",
    "def find_neighbors(center_pixel):\n",
    "    x, y = center_pixel\n",
    "    neighbors = []\n",
    "    for dx in [-100, 0, 100]:\n",
    "        for dy in [-100, 0, 100]:\n",
    "            neighbors.append((x + dx, y + dy))\n",
    "    return neighbors\n",
    "\n",
    "# test\n",
    "neighborhood = find_neighbors(closest_pixel_center)\n",
    "print(neighborhood)"
   ]
  },
  {
   "cell_type": "code",
   "execution_count": 26,
   "metadata": {},
   "outputs": [
    {
     "name": "stdout",
     "output_type": "stream",
     "text": [
      "1236      3\n",
      "62379     2\n",
      "71885     2\n",
      "82629     4\n",
      "106077    3\n",
      "110461    3\n",
      "111485    4\n",
      "113468    3\n",
      "120482    4\n",
      "Name: AS18_4, dtype: int64\n"
     ]
    }
   ],
   "source": [
    "# get landcover values for neighborhood\n",
    "def get_values_for_pixels(pixel_centers):\n",
    "    values = arealstatistik_GW.loc[(arealstatistik_GW['E_COORD'].isin([x for x, _ in pixel_centers])) & \n",
    "                                   (arealstatistik_GW['N_COORD'].isin([y for _, y in pixel_centers])), 'AS18_4']\n",
    "    return values\n",
    "\n",
    "# test\n",
    "arealstatistik_values = get_values_for_pixels(neighborhood)\n",
    "print(arealstatistik_values)"
   ]
  },
  {
   "cell_type": "code",
   "execution_count": 28,
   "metadata": {},
   "outputs": [
    {
     "name": "stdout",
     "output_type": "stream",
     "text": [
      "True\n"
     ]
    }
   ],
   "source": [
    "# determine scenicness\n",
    "def is_neighborhood_scenic(arealstatistik_values):\n",
    "    count_1_3 = sum(1 for value in arealstatistik_values if value in [1, 3])\n",
    "\n",
    "    if count_1_3 > 4:\n",
    "        return False\n",
    "    \n",
    "    return True\n",
    "\n",
    "# test\n",
    "scenicness_test = is_neighborhood_scenic(arealstatistik_values)\n",
    "print(scenicness_test)"
   ]
  }
 ],
 "metadata": {
  "kernelspec": {
   "display_name": "geo876",
   "language": "python",
   "name": "python3"
  },
  "language_info": {
   "codemirror_mode": {
    "name": "ipython",
    "version": 3
   },
   "file_extension": ".py",
   "mimetype": "text/x-python",
   "name": "python",
   "nbconvert_exporter": "python",
   "pygments_lexer": "ipython3",
   "version": "3.11.8"
  }
 },
 "nbformat": 4,
 "nbformat_minor": 2
}
