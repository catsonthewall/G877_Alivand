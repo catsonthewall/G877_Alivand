{
 "cells": [
  {
   "cell_type": "markdown",
   "metadata": {},
   "source": [
    "# Visibility analysis\n",
    "\n",
    "The visibility analysis will, at first, be conducted using the \"Arealstatistik\" (https://www.bfs.admin.ch/bfs/de/home/dienstleistungen/geostat/geodaten-bundesstatistik/boden-nutzung-bedeckung-eignung/arealstatistik-schweiz.assetdetail.25885691.html).\n",
    "At a later stage it might be conducted using a DEM."
   ]
  },
  {
   "cell_type": "code",
   "execution_count": 1,
   "metadata": {},
   "outputs": [],
   "source": [
    "# setup\n",
    "import geopandas as gpd\n",
    "import pandas as pd\n",
    "import numpy as np\n",
    "import os\n",
    "import getpass"
   ]
  },
  {
   "cell_type": "code",
   "execution_count": 2,
   "metadata": {},
   "outputs": [
    {
     "name": "stdout",
     "output_type": "stream",
     "text": [
      "        E_COORD  N_COORD  AS18_4\n",
      "0       2620000  1150100       2\n",
      "1       2620000  1151400       4\n",
      "2       2620000  1151800       4\n",
      "3       2620000  1151900       4\n",
      "4       2620000  1152200       4\n",
      "...         ...      ...     ...\n",
      "120696  2629900  1176900       3\n",
      "120697  2630300  1177400       3\n",
      "120698  2629000  1161300       4\n",
      "120699  2629000  1162000       2\n",
      "120700  2629000  1168000       4\n",
      "\n",
      "[120701 rows x 3 columns]\n",
      "<class 'pandas.core.frame.DataFrame'>\n",
      "RangeIndex: 120701 entries, 0 to 120700\n",
      "Data columns (total 3 columns):\n",
      " #   Column   Non-Null Count   Dtype\n",
      "---  ------   --------------   -----\n",
      " 0   E_COORD  120701 non-null  int64\n",
      " 1   N_COORD  120701 non-null  int64\n",
      " 2   AS18_4   120701 non-null  int64\n",
      "dtypes: int64(3)\n",
      "memory usage: 2.8 MB\n"
     ]
    }
   ],
   "source": [
    "user_name = getpass.getuser()\n",
    "\n",
    "# create a path to the CSV file\n",
    "file_path = os.path.join('/Users', user_name, 'Documents', 'GitHub', 'G877_Alivand', 'arealstatistik_Grindelwald.csv')\n",
    "\n",
    "# load data\n",
    "arealstatistik_GW = pd.read_csv(file_path, sep=';')\n",
    "print(arealstatistik_GW)\n",
    "arealstatistik_GW.info()"
   ]
  },
  {
   "cell_type": "code",
   "execution_count": 3,
   "metadata": {},
   "outputs": [
    {
     "name": "stdout",
     "output_type": "stream",
     "text": [
      "        fid  OBJECTID                                DKM_UUID  OBJEKTART  \\\n",
      "0        95      2126  {84F4C50E-E009-4DB8-AF3C-DEE20F3177F6}       1700   \n",
      "1       113      2145  {6408AD08-C7B5-4602-81D7-A9B7FBFFD5FF}       1700   \n",
      "2       114      2146  {578A6D84-CC7B-4687-B7C6-79313525392A}       1700   \n",
      "3       163      2195  {BF0A1AEF-817C-45DA-A33C-6C37903D19BB}       1500   \n",
      "4       169      2201  {C3EB4DD7-7E8F-4BB5-9DFD-BEE78567F8A7}       1400   \n",
      "...     ...       ...                                     ...        ...   \n",
      "5746  23006   1689149  {D0B1B4D9-0DE7-43E7-BE85-BAD1E985D1D4}       1500   \n",
      "5747  23007   1689150  {55F1CCE5-76D5-4107-B685-4E3D3CA8F485}       1500   \n",
      "5748  23008   1689151  {84EB5EDF-66A2-440D-A6C9-B53276A4295A}       1500   \n",
      "5749  23018   1689161  {15A755D9-A618-4277-BB0E-B0D12769D6A6}       1700   \n",
      "5750  23070   1689214  {A59DE7FF-AEF0-4373-904E-C7F76637246F}       1700   \n",
      "\n",
      "      NAME ROUTENNUMMER   SG  STUFE  KUNSTBAUTE  BEFAHRBARKEIT  ...  \\\n",
      "0     None         None  200      0         100            -99  ...   \n",
      "1     None         None  200      0         100            -99  ...   \n",
      "2     None         None  200      0         100            -99  ...   \n",
      "3     None         None  200      0         100              1  ...   \n",
      "4     None         None  200      0         100              1  ...   \n",
      "...    ...          ...  ...    ...         ...            ...  ...   \n",
      "5746  None         None  200      0         100              1  ...   \n",
      "5747  None         None  200      0         100              1  ...   \n",
      "5748  None         None  200      0         100              1  ...   \n",
      "5749  None         None  200      0         100            -99  ...   \n",
      "5750  None         None  200      0         100            -99  ...   \n",
      "\n",
      "      OVERRIDE1 OFF2  OFF3  CUT_BEGIN_FB  CUT_END_FB  EXTREMITY_TYPE2  \\\n",
      "0          None  NaN   NaN           NaN         NaN              3.0   \n",
      "1          None  NaN   NaN           NaN         NaN              3.0   \n",
      "2          None  NaN   NaN           NaN         NaN              3.0   \n",
      "3          None  NaN   NaN           NaN         NaN              3.0   \n",
      "4          None  NaN   NaN           NaN         NaN              3.0   \n",
      "...         ...  ...   ...           ...         ...              ...   \n",
      "5746       None  NaN   NaN           NaN         NaN              3.0   \n",
      "5747       None  NaN   NaN           NaN         NaN              3.0   \n",
      "5748       None  NaN   NaN           NaN         NaN              3.0   \n",
      "5749       None  NaN   NaN           NaN         NaN              3.0   \n",
      "5750       None  NaN   NaN           NaN         NaN              3.0   \n",
      "\n",
      "      NAME_LANG  INVERT  SHAPE_Length  \\\n",
      "0          None    None    287.805212   \n",
      "1          None    None    207.083342   \n",
      "2          None    None    119.975655   \n",
      "3          None    None    333.267801   \n",
      "4          None    None    258.039553   \n",
      "...         ...     ...           ...   \n",
      "5746       None    None     21.673609   \n",
      "5747       None    None     33.282204   \n",
      "5748       None    None     31.929847   \n",
      "5749       None    None     56.295566   \n",
      "5750       None    None     36.230965   \n",
      "\n",
      "                                               geometry  \n",
      "0     MULTILINESTRING ((2635432.128 1170007.040, 263...  \n",
      "1     MULTILINESTRING ((2635401.648 1170101.656, 263...  \n",
      "2     MULTILINESTRING ((2635524.203 1169944.810, 263...  \n",
      "3     MULTILINESTRING ((2635992.834 1170210.029, 263...  \n",
      "4     MULTILINESTRING ((2635582.200 1170101.444, 263...  \n",
      "...                                                 ...  \n",
      "5746  MULTILINESTRING ((2636134.145 1166845.429, 263...  \n",
      "5747  MULTILINESTRING ((2636124.810 1166813.483, 263...  \n",
      "5748  MULTILINESTRING ((2636103.439 1166790.620, 263...  \n",
      "5749  MULTILINESTRING ((2636143.650 1160554.154, 263...  \n",
      "5750  MULTILINESTRING ((2637536.336 1159834.826, 263...  \n",
      "\n",
      "[5751 rows x 40 columns]\n",
      "<class 'geopandas.geodataframe.GeoDataFrame'>\n",
      "RangeIndex: 5751 entries, 0 to 5750\n",
      "Data columns (total 40 columns):\n",
      " #   Column                 Non-Null Count  Dtype         \n",
      "---  ------                 --------------  -----         \n",
      " 0   fid                    5751 non-null   int64         \n",
      " 1   OBJECTID               5751 non-null   int64         \n",
      " 2   DKM_UUID               5751 non-null   object        \n",
      " 3   OBJEKTART              5751 non-null   int64         \n",
      " 4   NAME                   8 non-null      object        \n",
      " 5   ROUTENNUMMER           210 non-null    object        \n",
      " 6   SG                     5751 non-null   int64         \n",
      " 7   STUFE                  5751 non-null   int64         \n",
      " 8   KUNSTBAUTE             5751 non-null   int64         \n",
      " 9   BEFAHRBARKEIT          5751 non-null   int64         \n",
      " 10  BELAGSART              5751 non-null   int64         \n",
      " 11  EROEFFNUNGSDATUM       5681 non-null   datetime64[ns]\n",
      " 12  IM_BAU                 5751 non-null   int64         \n",
      " 13  KREISEL                5751 non-null   int64         \n",
      " 14  KREISELDURCHMESSER     5750 non-null   float64       \n",
      " 15  RICHTUNGSGETRENNT      5751 non-null   int64         \n",
      " 16  ROUTE                  5751 non-null   int64         \n",
      " 17  SACKGASSE_BIS50M       5751 non-null   int64         \n",
      " 18  VERKEHRSBEDEUTUNG      5751 non-null   int64         \n",
      " 19  VERKEHRSBESCHRAENKUNG  5751 non-null   int64         \n",
      " 20  WANDERWEG              5751 non-null   int64         \n",
      " 21  LB                     2521 non-null   float64       \n",
      " 22  FB                     2521 non-null   float64       \n",
      " 23  FBP                    2520 non-null   float64       \n",
      " 24  OFF1                   39 non-null     float64       \n",
      " 25  CAP_STYLE              5748 non-null   float64       \n",
      " 26  CUT_BEGIN              352 non-null    float64       \n",
      " 27  CUT_END                352 non-null    float64       \n",
      " 28  EXTREMITY_TYPE         5747 non-null   float64       \n",
      " 29  RID1                   5751 non-null   int64         \n",
      " 30  OVERRIDE1              361 non-null    object        \n",
      " 31  OFF2                   36 non-null     float64       \n",
      " 32  OFF3                   36 non-null     float64       \n",
      " 33  CUT_BEGIN_FB           120 non-null    float64       \n",
      " 34  CUT_END_FB             243 non-null    float64       \n",
      " 35  EXTREMITY_TYPE2        5745 non-null   float64       \n",
      " 36  NAME_LANG              24 non-null     object        \n",
      " 37  INVERT                 0 non-null      object        \n",
      " 38  SHAPE_Length           5751 non-null   float64       \n",
      " 39  geometry               5751 non-null   geometry      \n",
      "dtypes: datetime64[ns](1), float64(15), geometry(1), int64(17), object(6)\n",
      "memory usage: 1.8+ MB\n"
     ]
    }
   ],
   "source": [
    "# create a path to the GeoJSON file\n",
    "root = os.path.join('/Users', user_name, 'Documents', 'GitHub', 'G877_Alivand')\n",
    "fn = 'Roads_small.geojson'\n",
    "full_path = os.path.join(root, fn)\n",
    "# load data\n",
    "roads = gpd.read_file(full_path)\n",
    "print(roads)\n",
    "roads.info()"
   ]
  },
  {
   "cell_type": "markdown",
   "metadata": {},
   "source": [
    "### Set-up"
   ]
  },
  {
   "cell_type": "code",
   "execution_count": 4,
   "metadata": {},
   "outputs": [],
   "source": [
    "class Point():\n",
    "    # initialise\n",
    "    def __init__(self, x=None, y=None):\n",
    "        self.x = x\n",
    "        self.y = y\n",
    "\n",
    "     # representation\n",
    "    def __repr__(self):\n",
    "        return f'Point(x={self.x}, y={self.y})'\n"
   ]
  },
  {
   "cell_type": "markdown",
   "metadata": {},
   "source": [
    "### Main"
   ]
  },
  {
   "cell_type": "code",
   "execution_count": 5,
   "metadata": {},
   "outputs": [
    {
     "name": "stdout",
     "output_type": "stream",
     "text": [
      "The first 5 points are: [Point(x=2620000, y=1150100), Point(x=2620000, y=1151400), Point(x=2620000, y=1151800), Point(x=2620000, y=1151900), Point(x=2620000, y=1152200)]\n",
      "There are 120701 points in the dataset.\n"
     ]
    }
   ],
   "source": [
    "x = 0\n",
    "points = []\n",
    "\n",
    "for _ in range(len(arealstatistik_GW)):\n",
    "    a = (Point(arealstatistik_GW['E_COORD'].iloc[x], arealstatistik_GW['N_COORD'].iloc[x]))\n",
    "    points.append(a)\n",
    "    x += 1\n",
    "\n",
    "print(f'The first 5 points are: {points[:5]}')\n",
    "print(f'There are {len(points)} points in the dataset.')"
   ]
  },
  {
   "cell_type": "code",
   "execution_count": 6,
   "metadata": {},
   "outputs": [
    {
     "name": "stdout",
     "output_type": "stream",
     "text": [
      "Closest pixel center: [2625300 1162300]\n"
     ]
    }
   ],
   "source": [
    "# find closest pixel center for a given coordinate\n",
    "def find_closest_pixel(x_coord, y_coord):\n",
    "    pixel_centers = arealstatistik_GW[['E_COORD', 'N_COORD']].values\n",
    "    \n",
    "    distances = np.sqrt((pixel_centers[:, 0] - x_coord)**2 + (pixel_centers[:, 1] - y_coord)**2)\n",
    "    \n",
    "    closest_index = np.argmin(distances)\n",
    "    \n",
    "    closest_pixel_center = pixel_centers[closest_index]\n",
    "    \n",
    "    return closest_pixel_center\n",
    "\n",
    "# test\n",
    "x_coord = 2625321\n",
    "y_coord = 1162324\n",
    "closest_pixel_center = find_closest_pixel(x_coord, y_coord)\n",
    "print(\"Closest pixel center:\", closest_pixel_center)"
   ]
  },
  {
   "cell_type": "code",
   "execution_count": 7,
   "metadata": {},
   "outputs": [
    {
     "name": "stdout",
     "output_type": "stream",
     "text": [
      "[(2625200, 1162200), (2625200, 1162300), (2625200, 1162400), (2625300, 1162200), (2625300, 1162300), (2625300, 1162400), (2625400, 1162200), (2625400, 1162300), (2625400, 1162400)]\n"
     ]
    }
   ],
   "source": [
    "# find neighbor of a given pixel center\n",
    "def find_neighbors(center_pixel):\n",
    "    x, y = center_pixel\n",
    "    neighbors = []\n",
    "    for dx in [-100, 0, 100]:\n",
    "        for dy in [-100, 0, 100]:\n",
    "            neighbors.append((x + dx, y + dy))\n",
    "    return neighbors\n",
    "\n",
    "# test\n",
    "neighborhood = find_neighbors(closest_pixel_center)\n",
    "print(neighborhood)"
   ]
  },
  {
   "cell_type": "code",
   "execution_count": 8,
   "metadata": {},
   "outputs": [
    {
     "name": "stdout",
     "output_type": "stream",
     "text": [
      "1236      3\n",
      "62379     2\n",
      "71885     2\n",
      "82629     4\n",
      "106077    3\n",
      "110461    3\n",
      "111485    4\n",
      "113468    3\n",
      "120482    4\n",
      "Name: AS18_4, dtype: int64\n"
     ]
    }
   ],
   "source": [
    "# get landcover values for neighborhood\n",
    "def get_values_for_pixels(pixel_centers):\n",
    "    values = arealstatistik_GW.loc[(arealstatistik_GW['E_COORD'].isin([x for x, _ in pixel_centers])) & \n",
    "                                   (arealstatistik_GW['N_COORD'].isin([y for _, y in pixel_centers])), 'AS18_4']\n",
    "    return values\n",
    "\n",
    "# test\n",
    "arealstatistik_values = get_values_for_pixels(neighborhood)\n",
    "print(arealstatistik_values)"
   ]
  },
  {
   "cell_type": "code",
   "execution_count": 9,
   "metadata": {},
   "outputs": [
    {
     "name": "stdout",
     "output_type": "stream",
     "text": [
      "True\n"
     ]
    }
   ],
   "source": [
    "# determine scenicness\n",
    "def is_neighborhood_scenic(arealstatistik_values):\n",
    "    count_1_3 = sum(1 for value in arealstatistik_values if value in [1, 3])\n",
    "\n",
    "    if count_1_3 > 4:\n",
    "        return False\n",
    "    \n",
    "    return True\n",
    "\n",
    "# test\n",
    "scenicness_test = is_neighborhood_scenic(arealstatistik_values)\n",
    "print(scenicness_test)"
   ]
  }
 ],
 "metadata": {
  "kernelspec": {
   "display_name": "geo876",
   "language": "python",
   "name": "python3"
  },
  "language_info": {
   "codemirror_mode": {
    "name": "ipython",
    "version": 3
   },
   "file_extension": ".py",
   "mimetype": "text/x-python",
   "name": "python",
   "nbconvert_exporter": "python",
   "pygments_lexer": "ipython3",
   "version": "3.11.8"
  }
 },
 "nbformat": 4,
 "nbformat_minor": 2
}
