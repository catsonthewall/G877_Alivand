{
 "cells": [
  {
   "cell_type": "markdown",
   "metadata": {},
   "source": [
    "# Visibility analysis\n",
    "\n",
    "The visibility analysis will, at first, be conducted using the \"Arealstatistik\" (https://www.bfs.admin.ch/bfs/de/home/dienstleistungen/geostat/geodaten-bundesstatistik/boden-nutzung-bedeckung-eignung/arealstatistik-schweiz.assetdetail.25885691.html).\n",
    "\n",
    "At a later stage it might be conducted using a DEM (https://www.swisstopo.admin.ch/de/hoehenmodell-dhm25)."
   ]
  },
  {
   "cell_type": "code",
   "execution_count": 1,
   "metadata": {},
   "outputs": [],
   "source": [
    "# setup\n",
    "from geospatial import *\n",
    "import geopandas as gpd\n",
    "import pandas as pd\n",
    "import numpy as np\n",
    "import os\n",
    "import getpass"
   ]
  },
  {
   "cell_type": "code",
   "execution_count": 2,
   "metadata": {},
   "outputs": [],
   "source": [
    "user_name = getpass.getuser()\n",
    "\n",
    "# create a path to the CSV file\n",
    "csv_file_path = os.path.join('/Users', user_name, 'Documents', 'GitHub', 'G877_Alivand', 'arealstatistik_Grindelwald.csv')\n",
    "\n",
    "# load land use statistic data\n",
    "arealstatistik_GW = pd.read_csv(csv_file_path, sep=';')\n",
    "#print(arealstatistik_GW)\n",
    "#arealstatistik_GW.info()"
   ]
  },
  {
   "cell_type": "code",
   "execution_count": 3,
   "metadata": {},
   "outputs": [],
   "source": [
    "# create a path to the GeoJSON file of the roads\n",
    "root = os.path.join('/Users', user_name, 'Documents', 'GitHub', 'G877_Alivand')\n",
    "fn = 'Roads_small.geojson'\n",
    "full_path = os.path.join(root, fn)\n",
    "# load data\n",
    "roads = gpd.read_file(full_path)\n",
    "#print(roads)\n",
    "#roads.info()"
   ]
  },
  {
   "cell_type": "code",
   "execution_count": 4,
   "metadata": {},
   "outputs": [],
   "source": [
    "# create a path to the file of the DEM\n",
    "dhm25_file_path = os.path.join('/Users', user_name, 'Documents', 'GitHub', 'G877_Alivand', 'DHM25_Grindelwald.geojson')\n",
    "# load data\n",
    "dhm25 = gpd.read_file(dhm25_file_path)\n",
    "#print(dhm25)"
   ]
  },
  {
   "cell_type": "markdown",
   "metadata": {},
   "source": [
    "## Setting up the classes"
   ]
  },
  {
   "cell_type": "code",
   "execution_count": 5,
   "metadata": {},
   "outputs": [
    {
     "name": "stdout",
     "output_type": "stream",
     "text": [
      "The first 5 points are: [Point(x=2620000, y=1150100), Point(x=2620000, y=1151400), Point(x=2620000, y=1151800), Point(x=2620000, y=1151900), Point(x=2620000, y=1152200)]\n",
      "There are 120701 points in the dataset.\n"
     ]
    }
   ],
   "source": [
    "# add the data into the Point class and create an attribute containing the land use category\n",
    "points_LUS = []\n",
    "\n",
    "for x in range(len(arealstatistik_GW)):\n",
    "    a = (Point(arealstatistik_GW['E_COORD'].iloc[x], arealstatistik_GW['N_COORD'].iloc[x]))\n",
    "    a.cat = arealstatistik_GW['AS18_4'].iloc[x]\n",
    "    points_LUS.append(a)\n",
    "\n",
    "print(f'The first 5 points are: {points_LUS[:5]}')\n",
    "print(f'There are {len(points_LUS)} points in the dataset.')"
   ]
  },
  {
   "cell_type": "code",
   "execution_count": 6,
   "metadata": {},
   "outputs": [],
   "source": [
    "# split up the DHM25 geometry to fit in our own Point class\n",
    "dhm25['E_COORD'] = dhm25['geometry'].x.round(1)\n",
    "dhm25['N_COORD'] = dhm25['geometry'].y.round(1)\n",
    "dhm25['Z_COORD'] = dhm25['geometry'].z.round(0).astype(int)\n",
    "#print(dhm25)"
   ]
  },
  {
   "cell_type": "code",
   "execution_count": 7,
   "metadata": {},
   "outputs": [
    {
     "name": "stdout",
     "output_type": "stream",
     "text": [
      "The first 5 points are: [Point(x=2625485.9, y=1172295.3), Point(x=2627831.3, y=1172885.9), Point(x=2639148.4, y=1170993.8), Point(x=2648728.1, y=1170739.1), Point(x=2652621.9, y=1170375.0)]\n",
      "There are 4280 points in the dataset.\n",
      "The elevation of the first point is 1584m.a.s.l.\n"
     ]
    }
   ],
   "source": [
    "# create points from this data\n",
    "points_DHM25 = []\n",
    "\n",
    "for i in range(len(dhm25)):\n",
    "    point = Point(dhm25['E_COORD'].iloc[i], dhm25['N_COORD'].iloc[i])\n",
    "    point.z = dhm25['Z_COORD'].iloc[i]  # Append 'Z_COORD' attribute to the point\n",
    "    points_DHM25.append(point)\n",
    "\n",
    "print(f'The first 5 points are: {points_DHM25[:5]}')\n",
    "print(f'There are {len(points_DHM25)} points in the dataset.')\n",
    "print(f'The elevation of the first point is {points_DHM25[0].z}m.a.s.l.')"
   ]
  },
  {
   "cell_type": "markdown",
   "metadata": {},
   "source": [
    "### Main (land use statistic)\n",
    "\n",
    "Here the visibility analysis based on the land use statistic (Arealstatistik) is run."
   ]
  },
  {
   "cell_type": "code",
   "execution_count": 8,
   "metadata": {},
   "outputs": [
    {
     "name": "stdout",
     "output_type": "stream",
     "text": [
      "Point(x=2620000, y=1150100)\n",
      "Closest pixel center: Point(x=2620546.9, y=1150315.6)\n",
      "Point(x=2620000, y=1151400)\n",
      "Closest pixel center: Point(x=2620100.0, y=1151614.1)\n",
      "Point(x=2620000, y=1151800)\n",
      "Closest pixel center: Point(x=2620100.0, y=1151614.1)\n",
      "Point(x=2620000, y=1151900)\n",
      "Closest pixel center: Point(x=2620118.8, y=1152110.9)\n",
      "Point(x=2620000, y=1152200)\n",
      "Closest pixel center: Point(x=2620118.8, y=1152110.9)\n",
      "Point(x=2620000, y=1152400)\n",
      "Closest pixel center: Point(x=2620118.8, y=1152110.9)\n",
      "Point(x=2620000, y=1152800)\n",
      "Closest pixel center: Point(x=2620120.3, y=1152823.4)\n",
      "Point(x=2620000, y=1153200)\n",
      "Closest pixel center: Point(x=2620034.4, y=1153428.1)\n",
      "Point(x=2620000, y=1153500)\n",
      "Closest pixel center: Point(x=2620034.4, y=1153428.1)\n",
      "Point(x=2620000, y=1154000)\n",
      "Closest pixel center: Point(x=2620064.0, y=1154006.3)\n"
     ]
    }
   ],
   "source": [
    "closest_pixel_centers = []\n",
    "\n",
    "for point in points_LUS[:10]:\n",
    "    print(point)\n",
    "    closest_pixel_center = point.find_closest_pixel(points_DHM25)\n",
    "    print(\"Closest pixel center:\", closest_pixel_center)\n",
    "    closest_pixel_centers.append(closest_pixel_center)\n",
    "\n",
    "# closest_pixel_centers now contains the closest pixel centers for each Point instance in points_LUS"
   ]
  },
  {
   "cell_type": "code",
   "execution_count": 9,
   "metadata": {},
   "outputs": [
    {
     "name": "stdout",
     "output_type": "stream",
     "text": [
      "Closest pixel center: [2625300 1162300]\n"
     ]
    }
   ],
   "source": [
    "# find closest pixel center for a given coordinate\n",
    "def find_closest_pixel(x_coord, y_coord):\n",
    "    pixel_centers = arealstatistik_GW[['E_COORD', 'N_COORD']].values\n",
    "    \n",
    "    distances = np.sqrt((pixel_centers[:, 0] - x_coord)**2 + (pixel_centers[:, 1] - y_coord)**2)\n",
    "    \n",
    "    closest_index = np.argmin(distances)\n",
    "    \n",
    "    closest_pixel_center = pixel_centers[closest_index]\n",
    "    \n",
    "    return closest_pixel_center\n",
    "\n",
    "# test\n",
    "x_coord = 2625321\n",
    "y_coord = 1162324\n",
    "closest_pixel_center = find_closest_pixel(x_coord, y_coord)\n",
    "print(\"Closest pixel center:\", closest_pixel_center)"
   ]
  },
  {
   "cell_type": "code",
   "execution_count": 10,
   "metadata": {},
   "outputs": [
    {
     "name": "stdout",
     "output_type": "stream",
     "text": [
      "[(2625200, 1162200), (2625200, 1162300), (2625200, 1162400), (2625300, 1162200), (2625300, 1162300), (2625300, 1162400), (2625400, 1162200), (2625400, 1162300), (2625400, 1162400)]\n"
     ]
    }
   ],
   "source": [
    "# find neighbor of a given pixel center\n",
    "def find_neighbors(center_pixel):\n",
    "    x, y = center_pixel\n",
    "    neighbors = []\n",
    "    for dx in [-100, 0, 100]:\n",
    "        for dy in [-100, 0, 100]:\n",
    "            neighbors.append((x + dx, y + dy))\n",
    "    return neighbors\n",
    "\n",
    "# test\n",
    "neighborhood = find_neighbors(closest_pixel_center)\n",
    "print(neighborhood)"
   ]
  },
  {
   "cell_type": "code",
   "execution_count": 11,
   "metadata": {},
   "outputs": [
    {
     "name": "stdout",
     "output_type": "stream",
     "text": [
      "1236      3\n",
      "62379     2\n",
      "71885     2\n",
      "82629     4\n",
      "106077    3\n",
      "110461    3\n",
      "111485    4\n",
      "113468    3\n",
      "120482    4\n",
      "Name: AS18_4, dtype: int64\n"
     ]
    }
   ],
   "source": [
    "# get landcover values for neighborhood\n",
    "def get_values_for_pixels(pixel_centers):\n",
    "    values = arealstatistik_GW.loc[(arealstatistik_GW['E_COORD'].isin([x for x, _ in pixel_centers])) & \n",
    "                                   (arealstatistik_GW['N_COORD'].isin([y for _, y in pixel_centers])), 'AS18_4']\n",
    "    return values\n",
    "\n",
    "# test\n",
    "arealstatistik_values = get_values_for_pixels(neighborhood)\n",
    "print(arealstatistik_values)"
   ]
  },
  {
   "cell_type": "code",
   "execution_count": 12,
   "metadata": {},
   "outputs": [
    {
     "name": "stdout",
     "output_type": "stream",
     "text": [
      "True\n"
     ]
    }
   ],
   "source": [
    "# determine scenicness\n",
    "def is_neighborhood_scenic(arealstatistik_values):\n",
    "    count_1_3 = sum(1 for value in arealstatistik_values if value in [1, 3])\n",
    "\n",
    "    if count_1_3 > 4:\n",
    "        return False\n",
    "    \n",
    "    return True\n",
    "\n",
    "# test\n",
    "scenicness_test = is_neighborhood_scenic(arealstatistik_values)\n",
    "print(scenicness_test)"
   ]
  },
  {
   "cell_type": "code",
   "execution_count": 13,
   "metadata": {},
   "outputs": [
    {
     "name": "stdout",
     "output_type": "stream",
     "text": [
      "0.4444444444444444\n"
     ]
    }
   ],
   "source": [
    "# determine scenicness\n",
    "def neighborhood_scenicness(neighborhood):\n",
    "    count = sum(1 for value in arealstatistik_values if value in [1, 3])\n",
    "    score = count / 9\n",
    "    return score\n",
    "\n",
    "# test\n",
    "scenicness_score = neighborhood_scenicness(neighborhood)\n",
    "print(scenicness_score)"
   ]
  },
  {
   "cell_type": "markdown",
   "metadata": {},
   "source": [
    "## Main (viewshed)\n",
    "\n",
    "Here the visibility analysis based on the DEM is run."
   ]
  }
 ],
 "metadata": {
  "kernelspec": {
   "display_name": "geo876",
   "language": "python",
   "name": "python3"
  },
  "language_info": {
   "codemirror_mode": {
    "name": "ipython",
    "version": 3
   },
   "file_extension": ".py",
   "mimetype": "text/x-python",
   "name": "python",
   "nbconvert_exporter": "python",
   "pygments_lexer": "ipython3",
   "version": "3.11.8"
  }
 },
 "nbformat": 4,
 "nbformat_minor": 2
}
