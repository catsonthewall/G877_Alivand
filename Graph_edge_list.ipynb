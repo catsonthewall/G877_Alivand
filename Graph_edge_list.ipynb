{
 "cells": [
  {
   "cell_type": "code",
   "execution_count": null,
   "metadata": {
    "is_executing": true
   },
   "outputs": [],
   "source": [
    "import json\n",
    "import os\n",
    "import geopandas as gpd\n",
    "import numpy as np\n",
    "import pandas as pd\n",
    "from shapely.geometry import MultiLineString\n",
    "from shapely.wkt import loads"
   ]
  },
  {
   "cell_type": "code",
   "execution_count": null,
   "metadata": {
    "is_executing": true
   },
   "outputs": [],
   "source": [
    "user_name = 'baoyuliu'\n",
    "\n",
    "# create a path to the GeoJSON file\n",
    "root = os.path.join('/Users', user_name, 'Documents', 'GitHub', 'G877_Alivand')\n",
    "fn = 'Roads_small.geojson'\n",
    "full_path = os.path.join(root, fn)\n",
    "\n",
    "# use geopandas to read in the GeoJSON file\n",
    "roads = gpd.read_file(full_path)\n",
    "\n",
    "# create a new column that contains the length of each road\n",
    "viz_roads = roads.copy()\n",
    "print(viz_roads.head())\n",
    "\n",
    "#check the data type of the geometry column\n",
    "print(viz_roads['geometry'].dtype)\n",
    "print(viz_roads.type)"
   ]
  },
  {
   "cell_type": "code",
   "execution_count": null,
   "metadata": {
    "is_executing": true
   },
   "outputs": [],
   "source": [
    "class GraphFromEdgeList:\n",
    "    def __init__(self):\n",
    "        self.edges = []\n",
    "        self.nodes = set()\n",
    "\n",
    "    def add_edge(self, source, target, length):\n",
    "        self.edges.append((source, target, length))\n",
    "        self.nodes.add(source)\n",
    "        self.nodes.add(target)\n",
    "\n",
    "def preprocess_gdf_to_edge_list(gdf):\n",
    "    edge_list_graph = GraphFromEdgeList()\n",
    "\n",
    "    for idx, row in gdf.iterrows():\n",
    "        multilines = row['geometry']\n",
    "        for points in multilines.geoms:\n",
    "            xy = points.xy\n",
    "            if len(xy[0]) >= 2:  # simplify the multilines to lines\n",
    "                x1, y1 = xy[0][0], xy[1][0]\n",
    "                x2, y2 = xy[0][-1], xy[1][-1]\n",
    "\n",
    "                edge_list_graph.add_edge((x1, y1), (x2, y2), row['SHAPE_Length'])\n",
    "\n",
    "    return edge_list_graph\n"
   ]
  },
  {
   "cell_type": "code",
   "execution_count": null,
   "metadata": {
    "is_executing": true
   },
   "outputs": [],
   "source": [
    "class GraphFromEdgeList:\n",
    "    def __init__(self):\n",
    "        self.edges = []\n",
    "        self.nodes = set()\n",
    "        self.node_index = {}  # Map nodes to their indices\n",
    "        self.index_to_coords = {}  # Map indices to node coordinates\n",
    "\n",
    "    def add_edge(self, source, target, length):\n",
    "        # Assign an index to new nodes and store their coordinates\n",
    "        if source not in self.node_index:\n",
    "            self.node_index[source] = len(self.node_index)\n",
    "            self.index_to_coords[self.node_index[source]] = source\n",
    "        if target not in self.node_index:\n",
    "            self.node_index[target] = len(self.node_index)\n",
    "            self.index_to_coords[self.node_index[target]] = target\n",
    "\n",
    "        # Add the edge using node indices\n",
    "        self.edges.append((self.node_index[source], self.node_index[target], length))\n",
    "        self.nodes.add(source)\n",
    "        self.nodes.add(target)\n",
    "\n",
    "\n",
    "\n",
    "def preprocess_gdf_to_edge_list(gdf):\n",
    "    edge_list_graph = GraphFromEdgeList()\n",
    "\n",
    "    for idx, row in gdf.iterrows():\n",
    "        multilines = row['geometry']\n",
    "        for points in multilines.geoms:\n",
    "            xy = points.xy\n",
    "            if len(xy[0]) >= 2:  # simplify the multilines to lines\n",
    "                x1, y1 = xy[0][0], xy[1][0]\n",
    "                x2, y2 = xy[0][-1], xy[1][-1]\n",
    "\n",
    "                edge_list_graph.add_edge((x1, y1), (x2, y2), row['SHAPE_Length'])\n",
    "\n",
    "    return edge_list_graph"
   ]
  },
  {
   "cell_type": "code",
   "execution_count": 1,
   "metadata": {
    "ExecuteTime": {
     "start_time": "2024-05-20T19:22:30.905206Z"
    }
   },
   "outputs": [
    {
     "ename": "NameError",
     "evalue": "name 'preprocess_gdf_to_edge_list' is not defined",
     "output_type": "error",
     "traceback": [
      "\u001B[0;31m---------------------------------------------------------------------------\u001B[0m",
      "\u001B[0;31mNameError\u001B[0m                                 Traceback (most recent call last)",
      "Cell \u001B[0;32mIn[1], line 2\u001B[0m\n\u001B[1;32m      1\u001B[0m \u001B[38;5;28;01mif\u001B[39;00m \u001B[38;5;18m__name__\u001B[39m \u001B[38;5;241m==\u001B[39m \u001B[38;5;124m\"\u001B[39m\u001B[38;5;124m__main__\u001B[39m\u001B[38;5;124m\"\u001B[39m:\n\u001B[0;32m----> 2\u001B[0m     edge_list_graph \u001B[38;5;241m=\u001B[39m \u001B[43mpreprocess_gdf_to_edge_list\u001B[49m(viz_roads)\n\u001B[1;32m      4\u001B[0m     \u001B[38;5;28;01mfor\u001B[39;00m edge \u001B[38;5;129;01min\u001B[39;00m edge_list_graph\u001B[38;5;241m.\u001B[39medges:\n\u001B[1;32m      5\u001B[0m         \u001B[38;5;28mprint\u001B[39m(\u001B[38;5;124m\"\u001B[39m\u001B[38;5;124mEdge:\u001B[39m\u001B[38;5;124m\"\u001B[39m, edge)\n",
      "\u001B[0;31mNameError\u001B[0m: name 'preprocess_gdf_to_edge_list' is not defined"
     ]
    }
   ],
   "source": [
    "if __name__ == \"__main__\":\n",
    "    edge_list_graph = preprocess_gdf_to_edge_list(viz_roads)\n",
    "\n",
    "    for edge in edge_list_graph.edges:\n",
    "        print(\"Edge:\", edge)"
   ]
  },
  {
   "cell_type": "code",
   "execution_count": null,
   "metadata": {
    "ExecuteTime": {
     "start_time": "2024-05-20T19:22:31.292744Z"
    }
   },
   "outputs": [],
   "source": [
    "# 定义类\n",
    "class GraphFromEdgeList:\n",
    "    def __init__(self):\n",
    "        self.edges = []\n",
    "        self.nodes = set()\n",
    "        self.node_index = {}  # Map nodes to their indices\n",
    "        self.index_to_coords = {}  # Map indices to node coordinates\n",
    "\n",
    "    def add_edge(self, source, target, length):\n",
    "        if source not in self.node_index:\n",
    "            self.node_index[source] = len(self.node_index)\n",
    "            self.index_to_coords[self.node_index[source]] = source\n",
    "        if target not in self.node_index:\n",
    "            self.node_index[target] = len(self.node_index)\n",
    "            self.index_to_coords[self.node_index[target]] = target\n",
    "\n",
    "        self.edges.append((self.node_index[source], self.node_index[target], length))\n",
    "        self.nodes.add(source)\n",
    "        self.nodes.add(target)\n",
    "\n",
    "# 创建实例并添加边\n",
    "graph = GraphFromEdgeList()\n",
    "graph.add_edge((0, 0), (1, 1), 10)\n",
    "graph.add_edge((1, 1), (2, 2), 15)\n",
    "graph.add_edge((2, 2), (3, 3), 20)\n",
    "\n",
    "# 获取坐标\n",
    "index_to_find = 1\n",
    "coordinates = graph.index_to_coords[index_to_find]\n",
    "print(\"Coordinates of node with index\", index_to_find, \"are\", coordinates)\n"
   ]
  }
 ],
 "metadata": {
  "kernelspec": {
   "display_name": "Python 3 (ipykernel)",
   "language": "python",
   "name": "python3"
  },
  "language_info": {
   "codemirror_mode": {
    "name": "ipython",
    "version": 3
   },
   "file_extension": ".py",
   "mimetype": "text/x-python",
   "name": "python",
   "nbconvert_exporter": "python",
   "pygments_lexer": "ipython3",
   "version": "3.11.5"
  }
 },
 "nbformat": 4,
 "nbformat_minor": 2
}
