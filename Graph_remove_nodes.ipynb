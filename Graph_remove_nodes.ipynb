{
 "cells": [
  {
   "cell_type": "code",
   "execution_count": 6,
   "metadata": {},
   "outputs": [
    {
     "ename": "IndentationError",
     "evalue": "unexpected indent (2068640190.py, line 8)",
     "output_type": "error",
     "traceback": [
      "\u001b[0;36m  Cell \u001b[0;32mIn[6], line 8\u001b[0;36m\u001b[0m\n\u001b[0;31m    class Segment:\u001b[0m\n\u001b[0m    ^\u001b[0m\n\u001b[0;31mIndentationError\u001b[0m\u001b[0;31m:\u001b[0m unexpected indent\n"
     ]
    }
   ],
   "source": [
    "import json\n",
    "import os\n",
    "import geopandas as gpd\n",
    "import numpy as np\n",
    "from shapely.geometry import MultiLineString, Point, LineString\n",
    "import math\n",
    "# create graph\n",
    " class Segment:\n",
    "    def __init__(self, start, end, length):\n",
    "        self.start = start\n",
    "        self.end = end\n",
    "        self.length = length\n",
    "\n",
    "    def __repr__(self):\n",
    "        return f\"Segment(start={self.start}, end={self.end}, length={self.length})\"\n",
    "\n",
    "def parse_multilinestring(mls_string):\n",
    "    # Extract the coordinates from the MULTILINESTRING format\n",
    "    lines = mls_string.strip(\"MULTILINESTRING ()\").split(\", \")\n",
    "    coordinates = [tuple(map(float, line.split())) for line in lines]\n",
    "    return coordinates\n",
    "\n",
    "def convert_to_segments(data):\n",
    "    segments = []\n",
    "    for index, row in data.iterrows():\n",
    "        if row['geometry'].startswith('MULTILINESTRING'):\n",
    "            coordinates = parse_multilinestring(row['geometry'])\n",
    "            if len(coordinates) >= 2:\n",
    "                start_point = coordinates[0]\n",
    "                end_point = coordinates[-1]\n",
    "                length = row['SHAPE_Length']\n",
    "                segments.append(Segment(start=start_point, end=end_point, length=length))\n",
    "    return segments\n",
    "\n",
    "# Sample data (as DataFrame-like structure)\n",
    "import pandas as pd\n",
    "\n",
    "data = {\n",
    "    'OBJECTID': [95, 113, 114, 163, 169],\n",
    "    'DKM_UUID': ['{84F4C50E-E009-4DB8-AF3C-DEE20F3177F6}', '{6408AD08-C7B5-4602-81D7-A9B7FBFFD5FF}', '{578A6D84-CC7B-4687-B7C6-79313525392A}', '{BF0A1AEF-817C-45DA-A33C-6C37903D19BB}', '{C3EB4DD7-7E8F-4BB5-9DFD-BEE78567F8A7}'],\n",
    "    'OBJEKTART': [1700, 1700, 1700, 1500, 1400],\n",
    "    'geometry': [\n",
    "        'MULTILINESTRING ((2635432.128 1170007.040, 2635433.128 1170010.040))',\n",
    "        'MULTILINESTRING ((2635401.648 1170101.656, 2635402.648 1170102.656))',\n",
    "        'MULTILINESTRING ((2635524.203 1169944.810, 2635525.203 1169945.810))',\n",
    "        'MULTILINESTRING ((2635533.203 1169940.810, 2635534.203 1169941.810))',\n",
    "        'MULTILINESTRING ((2635544.203 1169934.810, 2635545.203 1169935.810))'\n",
    "    ],\n",
    "    'SHAPE_Length': [287.805212, 207.083342, 119.975655, 150.783420, 180.672309]\n",
    "}\n",
    "\n",
    "df = pd.DataFrame(data)\n",
    "\n",
    "# Convert MultiLineStrings to segments\n",
    "segments = convert_to_segments(df)\n",
    "\n",
    "# Create the adjacency list\n",
    "from collections import defaultdict\n",
    "\n",
    "def create_adjacency_list(segments):\n",
    "    adjacency_list = defaultdict(list)\n",
    "    for segment in segments:\n",
    "        adjacency_list[segment.start].append((segment.end, segment.length))\n",
    "        adjacency_list[segment.end].append((segment.start, segment.length))\n",
    "    return adjacency_list\n",
    "\n",
    "adjacency_list = create_adjacency_list(segments)\n",
    "\n",
    "# Print the adjacency list\n",
    "for node, edges in adjacency_list.items():\n",
    "    print(f\"{node}: {edges}\")\n"
   ]
  },
  {
   "cell_type": "code",
   "execution_count": null,
   "metadata": {},
   "outputs": [],
   "source": [
    "user_name = 'baoyuliu'\n",
    "\n",
    "# create a path to the GeoJSON file\n",
    "root = os.path.join('/Users', user_name, 'Documents', 'GitHub', 'G877_Alivand')\n",
    "fn = 'Roads_small.geojson'\n",
    "full_path = os.path.join(root, fn)\n",
    "\n",
    "# use geopandas to read in the GeoJSON file\n",
    "roads = gpd.read_file(full_path)\n",
    "\n",
    "# create a new column that contains the length of each road\n",
    "viz_roads = roads.copy()\n",
    "print(viz_roads.head())\n",
    "\n",
    "#check the data type of the geometry column\n",
    "print(viz_roads['geometry'].dtype)\n",
    "print(viz_roads.type)"
   ]
  }
 ],
 "metadata": {
  "kernelspec": {
   "display_name": "base",
   "language": "python",
   "name": "python3"
  },
  "language_info": {
   "codemirror_mode": {
    "name": "ipython",
    "version": 3
   },
   "file_extension": ".py",
   "mimetype": "text/x-python",
   "name": "python",
   "nbconvert_exporter": "python",
   "pygments_lexer": "ipython3",
   "version": "3.11.5"
  }
 },
 "nbformat": 4,
 "nbformat_minor": 2
}
