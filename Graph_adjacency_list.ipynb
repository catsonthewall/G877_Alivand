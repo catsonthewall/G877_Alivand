{
 "cells": [
  {
   "cell_type": "code",
   "execution_count": 1,
   "metadata": {},
   "outputs": [],
   "source": [
    "import json\n",
    "import os\n",
    "import geopandas as gpd\n",
    "import numpy as np\n",
    "import random"
   ]
  },
  {
   "cell_type": "code",
   "execution_count": 2,
   "metadata": {},
   "outputs": [
    {
     "name": "stdout",
     "output_type": "stream",
     "text": [
      "   fid  OBJECTID                                DKM_UUID  OBJEKTART  NAME  \\\n",
      "0   95      2126  {84F4C50E-E009-4DB8-AF3C-DEE20F3177F6}       1700  None   \n",
      "1  113      2145  {6408AD08-C7B5-4602-81D7-A9B7FBFFD5FF}       1700  None   \n",
      "2  114      2146  {578A6D84-CC7B-4687-B7C6-79313525392A}       1700  None   \n",
      "3  163      2195  {BF0A1AEF-817C-45DA-A33C-6C37903D19BB}       1500  None   \n",
      "4  169      2201  {C3EB4DD7-7E8F-4BB5-9DFD-BEE78567F8A7}       1400  None   \n",
      "\n",
      "  ROUTENNUMMER   SG  STUFE  KUNSTBAUTE  BEFAHRBARKEIT  ...  OVERRIDE1 OFF2  \\\n",
      "0         None  200      0         100            -99  ...       None  NaN   \n",
      "1         None  200      0         100            -99  ...       None  NaN   \n",
      "2         None  200      0         100            -99  ...       None  NaN   \n",
      "3         None  200      0         100              1  ...       None  NaN   \n",
      "4         None  200      0         100              1  ...       None  NaN   \n",
      "\n",
      "   OFF3  CUT_BEGIN_FB  CUT_END_FB  EXTREMITY_TYPE2  NAME_LANG  INVERT  \\\n",
      "0   NaN           NaN         NaN              3.0       None    None   \n",
      "1   NaN           NaN         NaN              3.0       None    None   \n",
      "2   NaN           NaN         NaN              3.0       None    None   \n",
      "3   NaN           NaN         NaN              3.0       None    None   \n",
      "4   NaN           NaN         NaN              3.0       None    None   \n",
      "\n",
      "   SHAPE_Length                                           geometry  \n",
      "0    287.805212  MULTILINESTRING ((2635432.128 1170007.040, 263...  \n",
      "1    207.083342  MULTILINESTRING ((2635401.648 1170101.656, 263...  \n",
      "2    119.975655  MULTILINESTRING ((2635524.203 1169944.810, 263...  \n",
      "3    333.267801  MULTILINESTRING ((2635992.834 1170210.029, 263...  \n",
      "4    258.039553  MULTILINESTRING ((2635582.200 1170101.444, 263...  \n",
      "\n",
      "[5 rows x 40 columns]\n",
      "geometry\n",
      "0       MultiLineString\n",
      "1       MultiLineString\n",
      "2       MultiLineString\n",
      "3       MultiLineString\n",
      "4       MultiLineString\n",
      "             ...       \n",
      "5746    MultiLineString\n",
      "5747    MultiLineString\n",
      "5748    MultiLineString\n",
      "5749    MultiLineString\n",
      "5750    MultiLineString\n",
      "Length: 5751, dtype: object\n"
     ]
    }
   ],
   "source": [
    "user_name = 'baoyuliu'\n",
    "\n",
    "# create a path to the GeoJSON file\n",
    "root = os.path.join('/Users', user_name, 'Documents', 'GitHub', 'G877_Alivand')\n",
    "fn = 'Roads_small.geojson'\n",
    "full_path = os.path.join(root, fn)\n",
    "\n",
    "# use geopandas to read in the GeoJSON file\n",
    "roads = gpd.read_file(full_path)\n",
    "\n",
    "# create a new column that contains the length of each road\n",
    "viz_roads = roads.copy()\n",
    "print(viz_roads.head())\n",
    "\n",
    "#check the data type of the geometry column\n",
    "print(viz_roads['geometry'].dtype)\n",
    "print(viz_roads.type)"
   ]
  },
  {
   "cell_type": "code",
   "execution_count": 6,
   "metadata": {},
   "outputs": [
    {
     "name": "stdout",
     "output_type": "stream",
     "text": [
      "[]\n",
      "<__main__.Graph object at 0x14b7ff110>\n"
     ]
    }
   ],
   "source": [
    "import geopandas as gpd\n",
    "from shapely.geometry import MultiLineString, Point, LineString\n",
    "import math\n",
    "\n",
    "class Graph:\n",
    "    def __init__(self):\n",
    "        self.adjacency_list = {}\n",
    "        self.edge_lengths = {}\n",
    "\n",
    "    def add_edge(self, v, w):\n",
    "        if v not in self.adjacency_list:\n",
    "            self.adjacency_list[v] = []\n",
    "        if w not in self.adjacency_list:\n",
    "            self.adjacency_list[w] = []\n",
    "        if w not in self.adjacency_list[v] and v not in self.adjacency_list[w]:\n",
    "            self.adjacency_list[v].append(w)\n",
    "            self.adjacency_list[w].append(v)\n",
    "            # Calculate the length of the edge\n",
    "            distance = self.calculate_distance(v, w)\n",
    "            self.edge_lengths[(v, w)] = distance\n",
    "            self.edge_lengths[(w, v)] = distance  # Optional, for undirected graph\n",
    "\n",
    "    def calculate_distance(self, start, end):\n",
    "        line = LineString([start, end])\n",
    "        return line.length\n",
    "\n",
    "    def get_adjacent(self, v):\n",
    "        return self.adjacency_list.get(v, [])\n",
    "\n",
    "    def get_edge_length(self, v, w):\n",
    "        return self.edge_lengths.get((v, w), None)\n",
    "\n",
    "# create a graph\n",
    "graph = Graph()\n",
    "\n",
    "# Assuming viz_roads is a geopandas GeoDataFrame with road geometries\n",
    "for index, row in viz_roads.iterrows():\n",
    "    geometry = row['geometry']\n",
    "    if isinstance(geometry, MultiLineString):\n",
    "        for line in geometry.geoms:  # Access the individual LineStrings\n",
    "            start_point = line.coords[0]  # get the start point\n",
    "            end_point = line.coords[-1]  # get the end point\n",
    "            graph.add_edge(start_point, end_point)\n",
    "    else:\n",
    "        start_point = geometry.coords[0]\n",
    "        end_point = geometry.coords[-1]\n",
    "        graph.add_edge(start_point, end_point)\n",
    "\n",
    "# get a result\n",
    "print(graph.get_adjacent((2635432.128, 1170007.040)))\n",
    "\n",
    "print(graph)\n"
   ]
  }
 ],
 "metadata": {
  "kernelspec": {
   "display_name": "Python 3 (ipykernel)",
   "language": "python",
   "name": "python3"
  },
  "language_info": {
   "codemirror_mode": {
    "name": "ipython",
    "version": 3
   },
   "file_extension": ".py",
   "mimetype": "text/x-python",
   "name": "python",
   "nbconvert_exporter": "python",
   "pygments_lexer": "ipython3",
   "version": "3.11.5"
  }
 },
 "nbformat": 4,
 "nbformat_minor": 2
}
