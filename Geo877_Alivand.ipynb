{
 "cells": [
  {
   "cell_type": "markdown",
   "metadata": {},
   "source": [
    "# Geo877 Spatial Algorithms - Group Alivand\n",
    "### Extracting Scenic Routes from VGI Data Sources \n",
    "Please enter all your code here, or in the python file with the same name (for classes and other \"background\" code)."
   ]
  },
  {
   "cell_type": "code",
   "execution_count": null,
   "metadata": {},
   "outputs": [],
   "source": []
  }
 ],
 "metadata": {
  "language_info": {
   "name": "python"
  }
 },
 "nbformat": 4,
 "nbformat_minor": 2
}
